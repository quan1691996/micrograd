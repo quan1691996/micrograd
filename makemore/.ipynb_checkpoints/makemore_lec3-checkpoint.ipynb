{
 "cells": [
  {
   "cell_type": "code",
   "execution_count": 1,
   "id": "a8bee167-2dc6-4e7c-9fa6-389006f6a96a",
   "metadata": {},
   "outputs": [],
   "source": [
    "import torch\n",
    "import torch.nn.functional as F\n",
    "import matplotlib.pyplot as plt \n",
    "%matplotlib inline"
   ]
  },
  {
   "cell_type": "code",
   "execution_count": 2,
   "id": "402e6c3c-2bc4-49a5-8433-ba33f7f0c1b2",
   "metadata": {},
   "outputs": [
    {
     "data": {
      "text/plain": [
       "['emma', 'olivia', 'ava', 'isabella', 'sophia', 'charlotte', 'mia', 'amelia']"
      ]
     },
     "execution_count": 2,
     "metadata": {},
     "output_type": "execute_result"
    }
   ],
   "source": [
    "words = open('names.txt','r').read().splitlines()\n",
    "words[:8]"
   ]
  },
  {
   "cell_type": "code",
   "execution_count": 5,
   "id": "45af50af-7820-4581-bda6-700ba173df54",
   "metadata": {},
   "outputs": [
    {
     "name": "stdout",
     "output_type": "stream",
     "text": [
      "{1: 'a', 2: 'b', 3: 'c', 4: 'd', 5: 'e', 6: 'f', 7: 'g', 8: 'h', 9: 'i', 10: 'j', 11: 'k', 12: 'l', 13: 'm', 14: 'n', 15: 'o', 16: 'p', 17: 'q', 18: 'r', 19: 's', 20: 't', 21: 'u', 22: 'v', 23: 'w', 24: 'x', 25: 'y', 26: 'z', 0: '.'}\n",
      "27\n"
     ]
    }
   ],
   "source": [
    "# Make the vocabulary of characters and mapping to/from integers\n",
    "chars = sorted(list(set(''.join(words))))\n",
    "stoi = {s:i+1 for i,s in enumerate(chars)}\n",
    "stoi['.'] = 0\n",
    "itos = {i:s for s, i in stoi.items()}\n",
    "vocab_size = len(itos)\n",
    "print(itos)\n",
    "print(vocab_size)"
   ]
  },
  {
   "cell_type": "code",
   "execution_count": 8,
   "id": "a5b47f58-87ea-460d-857f-beb79d3e5c77",
   "metadata": {},
   "outputs": [
    {
     "name": "stdout",
     "output_type": "stream",
     "text": [
      "torch.Size([182437, 3]) torch.Size([182437])\n",
      "torch.Size([22781, 3]) torch.Size([22781])\n",
      "torch.Size([22928, 3]) torch.Size([22928])\n"
     ]
    }
   ],
   "source": [
    "block_size = 3 # lenght of content\n",
    "\n",
    "# Data split: Training, dev/validation, Test set\n",
    "def build_dataset(words):\n",
    "    X, Y = [], []\n",
    "    for w in words:\n",
    "        # print(w)\n",
    "        context = [0]*block_size\n",
    "        for ch in w + '.':\n",
    "            ix = stoi[ch]\n",
    "            X.append(context)\n",
    "            Y.append(ix)\n",
    "            # print(''.join(itos[i] for i in context), '-->', itos[ix])\n",
    "            context = context[1:] + [ix] # shift window of context to right\n",
    "    \n",
    "    X = torch.tensor(X)\n",
    "    Y = torch.tensor(Y)  \n",
    "    print(X.shape, Y.shape)\n",
    "    return X, Y\n",
    "\n",
    "import random\n",
    "random.seed(42)\n",
    "random.shuffle(words)\n",
    "n1 = int(0.8*len(words))\n",
    "n2 = int(0.9*len(words))\n",
    "\n",
    "Xtr,Ytr = build_dataset(words[:n1])\n",
    "Xdev, Ydev = build_dataset(words[n1:n2])\n",
    "Xte,Yte = build_dataset(words[n2:])"
   ]
  },
  {
   "cell_type": "code",
   "execution_count": 44,
   "id": "222ac988-b088-47ce-931d-e3717e98f212",
   "metadata": {},
   "outputs": [],
   "source": [
    "n_embd = 10\n",
    "n_hidden = 200\n",
    "\n",
    "g = torch.Generator().manual_seed(2147483647)\n",
    "C = torch.randn((vocab_size,n_embd), generator=g) # make a look up table for character embedding\n",
    "# make first layer\n",
    "W1 = torch.randn((n_embd*block_size,n_hidden), generator=g)\n",
    "b1 = torch.randn(n_hidden, generator=g)\n",
    "# Make second layer\n",
    "W2 = torch.randn((n_hidden,vocab_size), generator=g)\n",
    "b2 = torch.randn(vocab_size, generator=g)\n",
    "parameters = [C,W1,b1,W2,b2]\n",
    "\n",
    "sum(p.nelement() for p in parameters)\n",
    "\n",
    "for p in parameters:\n",
    "    p.requires_grad = True"
   ]
  },
  {
   "cell_type": "code",
   "execution_count": 45,
   "id": "adfd3223-1b0e-43be-9f8e-a344f78a5dbc",
   "metadata": {},
   "outputs": [
    {
     "name": "stdout",
     "output_type": "stream",
     "text": [
      "      0/ 200000: 25.2377\n",
      "  10000/ 200000: 2.6467\n",
      "  20000/ 200000: 2.3625\n",
      "  30000/ 200000: 2.1039\n",
      "  40000/ 200000: 2.4853\n"
     ]
    },
    {
     "ename": "KeyboardInterrupt",
     "evalue": "",
     "output_type": "error",
     "traceback": [
      "\u001b[0;31m---------------------------------------------------------------------------\u001b[0m",
      "\u001b[0;31mKeyboardInterrupt\u001b[0m                         Traceback (most recent call last)",
      "Cell \u001b[0;32mIn[45], line 19\u001b[0m\n\u001b[1;32m     17\u001b[0m \u001b[38;5;28;01mfor\u001b[39;00m p \u001b[38;5;129;01min\u001b[39;00m parameters:\n\u001b[1;32m     18\u001b[0m     p\u001b[38;5;241m.\u001b[39mgrad \u001b[38;5;241m=\u001b[39m \u001b[38;5;28;01mNone\u001b[39;00m\n\u001b[0;32m---> 19\u001b[0m \u001b[43mloss\u001b[49m\u001b[38;5;241;43m.\u001b[39;49m\u001b[43mbackward\u001b[49m\u001b[43m(\u001b[49m\u001b[43m)\u001b[49m\n\u001b[1;32m     21\u001b[0m \u001b[38;5;66;03m# update\u001b[39;00m\n\u001b[1;32m     22\u001b[0m lr \u001b[38;5;241m=\u001b[39m \u001b[38;5;241m0.1\u001b[39m \u001b[38;5;28;01mif\u001b[39;00m i\u001b[38;5;241m<\u001b[39m\u001b[38;5;241m100000\u001b[39m \u001b[38;5;28;01melse\u001b[39;00m \u001b[38;5;241m0.01\u001b[39m\n",
      "File \u001b[0;32m~/micrograd/lib/python3.10/site-packages/torch/_tensor.py:487\u001b[0m, in \u001b[0;36mTensor.backward\u001b[0;34m(self, gradient, retain_graph, create_graph, inputs)\u001b[0m\n\u001b[1;32m    477\u001b[0m \u001b[38;5;28;01mif\u001b[39;00m has_torch_function_unary(\u001b[38;5;28mself\u001b[39m):\n\u001b[1;32m    478\u001b[0m     \u001b[38;5;28;01mreturn\u001b[39;00m handle_torch_function(\n\u001b[1;32m    479\u001b[0m         Tensor\u001b[38;5;241m.\u001b[39mbackward,\n\u001b[1;32m    480\u001b[0m         (\u001b[38;5;28mself\u001b[39m,),\n\u001b[0;32m   (...)\u001b[0m\n\u001b[1;32m    485\u001b[0m         inputs\u001b[38;5;241m=\u001b[39minputs,\n\u001b[1;32m    486\u001b[0m     )\n\u001b[0;32m--> 487\u001b[0m \u001b[43mtorch\u001b[49m\u001b[38;5;241;43m.\u001b[39;49m\u001b[43mautograd\u001b[49m\u001b[38;5;241;43m.\u001b[39;49m\u001b[43mbackward\u001b[49m\u001b[43m(\u001b[49m\n\u001b[1;32m    488\u001b[0m \u001b[43m    \u001b[49m\u001b[38;5;28;43mself\u001b[39;49m\u001b[43m,\u001b[49m\u001b[43m \u001b[49m\u001b[43mgradient\u001b[49m\u001b[43m,\u001b[49m\u001b[43m \u001b[49m\u001b[43mretain_graph\u001b[49m\u001b[43m,\u001b[49m\u001b[43m \u001b[49m\u001b[43mcreate_graph\u001b[49m\u001b[43m,\u001b[49m\u001b[43m \u001b[49m\u001b[43minputs\u001b[49m\u001b[38;5;241;43m=\u001b[39;49m\u001b[43minputs\u001b[49m\n\u001b[1;32m    489\u001b[0m \u001b[43m\u001b[49m\u001b[43m)\u001b[49m\n",
      "File \u001b[0;32m~/micrograd/lib/python3.10/site-packages/torch/autograd/__init__.py:200\u001b[0m, in \u001b[0;36mbackward\u001b[0;34m(tensors, grad_tensors, retain_graph, create_graph, grad_variables, inputs)\u001b[0m\n\u001b[1;32m    195\u001b[0m     retain_graph \u001b[38;5;241m=\u001b[39m create_graph\n\u001b[1;32m    197\u001b[0m \u001b[38;5;66;03m# The reason we repeat same the comment below is that\u001b[39;00m\n\u001b[1;32m    198\u001b[0m \u001b[38;5;66;03m# some Python versions print out the first line of a multi-line function\u001b[39;00m\n\u001b[1;32m    199\u001b[0m \u001b[38;5;66;03m# calls in the traceback and some print out the last line\u001b[39;00m\n\u001b[0;32m--> 200\u001b[0m \u001b[43mVariable\u001b[49m\u001b[38;5;241;43m.\u001b[39;49m\u001b[43m_execution_engine\u001b[49m\u001b[38;5;241;43m.\u001b[39;49m\u001b[43mrun_backward\u001b[49m\u001b[43m(\u001b[49m\u001b[43m  \u001b[49m\u001b[38;5;66;43;03m# Calls into the C++ engine to run the backward pass\u001b[39;49;00m\n\u001b[1;32m    201\u001b[0m \u001b[43m    \u001b[49m\u001b[43mtensors\u001b[49m\u001b[43m,\u001b[49m\u001b[43m \u001b[49m\u001b[43mgrad_tensors_\u001b[49m\u001b[43m,\u001b[49m\u001b[43m \u001b[49m\u001b[43mretain_graph\u001b[49m\u001b[43m,\u001b[49m\u001b[43m \u001b[49m\u001b[43mcreate_graph\u001b[49m\u001b[43m,\u001b[49m\u001b[43m \u001b[49m\u001b[43minputs\u001b[49m\u001b[43m,\u001b[49m\n\u001b[1;32m    202\u001b[0m \u001b[43m    \u001b[49m\u001b[43mallow_unreachable\u001b[49m\u001b[38;5;241;43m=\u001b[39;49m\u001b[38;5;28;43;01mTrue\u001b[39;49;00m\u001b[43m,\u001b[49m\u001b[43m \u001b[49m\u001b[43maccumulate_grad\u001b[49m\u001b[38;5;241;43m=\u001b[39;49m\u001b[38;5;28;43;01mTrue\u001b[39;49;00m\u001b[43m)\u001b[49m\n",
      "\u001b[0;31mKeyboardInterrupt\u001b[0m: "
     ]
    }
   ],
   "source": [
    "max_step = 200000\n",
    "batch_size = 32\n",
    "lossi = []\n",
    "\n",
    "for i in range(max_step):\n",
    "\n",
    "    # minibatch construct\n",
    "    ix = torch.randint(0, Xtr.shape[0], (batch_size,))\n",
    "    \n",
    "    # foward pass\n",
    "    emb = C[Xtr[ix]]\n",
    "    h = torch.tanh(emb.view(emb.shape[0],-1) @ W1 + b1) \n",
    "    logits = h @ W2 + b2\n",
    "    loss = F.cross_entropy(logits, Ytr[ix])  \n",
    "    \n",
    "    # backward pass\n",
    "    for p in parameters:\n",
    "        p.grad = None\n",
    "    loss.backward()\n",
    "    \n",
    "    # update\n",
    "    lr = 0.1 if i<100000 else 0.01\n",
    "    for p in parameters:\n",
    "        p.data += -lr*p.grad\n",
    "\n",
    "    # track stats\n",
    "    if i%10000==0: # print every once in a while\n",
    "        print(f'{i:7d}/{max_step:7d}: {loss.item():.4f}')\n",
    "    lossi.append(loss.log10().item())\n",
    "    "
   ]
  },
  {
   "cell_type": "code",
   "execution_count": 14,
   "id": "48e2bf77-f3a3-4d49-8f9a-6f4adb2cf2ce",
   "metadata": {},
   "outputs": [
    {
     "data": {
      "text/plain": [
       "[<matplotlib.lines.Line2D at 0x7f834a782da0>]"
      ]
     },
     "execution_count": 14,
     "metadata": {},
     "output_type": "execute_result"
    },
    {
     "data": {
      "image/png": "[encoded data removed]",
      "text/plain": [
       "<Figure size 640x480 with 1 Axes>"
      ]
     },
     "metadata": {},
     "output_type": "display_data"
    }
   ],
   "source": [
    "plt.plot(lossi)"
   ]
  },
  {
   "cell_type": "code",
   "execution_count": 17,
   "id": "c28a50a1-4953-4b21-b0e7-67c97a837ea2",
   "metadata": {},
   "outputs": [
    {
     "name": "stdout",
     "output_type": "stream",
     "text": [
      "val 2.1669633388519287\n",
      "test 2.1684036254882812\n"
     ]
    }
   ],
   "source": [
    "@torch.no_grad() # this decorator disables gradient tracking\n",
    "def split_loss(split):\n",
    "    x, y = {\n",
    "        'train': (Xtr, Ytr),\n",
    "        'val': (Xdev, Ydev),\n",
    "        'test': (Xte, Yte),\n",
    "    }[split]\n",
    "    emb = C[x]\n",
    "    h = h = torch.tanh(emb.view(emb.shape[0],-1) @ W1 + b1) \n",
    "    logits = h @ W2 + b2\n",
    "    loss = F.cross_entropy(logits, y)  \n",
    "    print(split, loss.item())\n",
    "\n",
    "split_loss('val')\n",
    "split_loss('test')"
   ]
  },
  {
   "cell_type": "code",
   "execution_count": 18,
   "id": "0b4f1cd2-a544-45c0-ba7e-22d83e097e30",
   "metadata": {},
   "outputs": [
    {
     "name": "stdout",
     "output_type": "stream",
     "text": [
      "aymiaaniya.\n",
      "uce.\n",
      "avanganyya.\n",
      "greyanna.\n",
      "tahmana.\n",
      "andi.\n",
      "gap.\n",
      "adorraylosalara.\n",
      "kaylani.\n",
      "driellonelis.\n",
      "adson.\n",
      "kariah.\n",
      "ggos.\n",
      "malane.\n",
      "daylanie.\n",
      "chovangvivina.\n",
      "xaleopalon.\n",
      "jaylonsad.\n",
      "octuzian.\n",
      "mah.\n"
     ]
    }
   ],
   "source": [
    "# sample from the model\n",
    "for _ in range(20):\n",
    "\n",
    "    out = []\n",
    "    context = [0]*block_size\n",
    "    while True:\n",
    "        emb = C[torch.tensor([context])]\n",
    "        h = h = torch.tanh(emb.view(emb.shape[0],-1) @ W1 + b1) \n",
    "        logits = h @ W2 + b2\n",
    "        probs = F.softmax(logits, dim=1)\n",
    "        ix = torch.multinomial(probs, num_samples=1, generator=g).item()\n",
    "        context = context[1:] + [ix]\n",
    "        out.append(ix)\n",
    "\n",
    "        if ix==0:\n",
    "            break\n",
    "\n",
    "    print(''.join(itos[i] for i in out))"
   ]
  },
  {
   "cell_type": "markdown",
   "id": "33781671-2ec1-4f7b-b5cc-4d9ea0bc2828",
   "metadata": {},
   "source": [
    "## Problem on Model initialization\n",
    "At this stage, the model start with a too much high loss\\\n",
    "At first, we can expect the model to have a loss in which it predict every word at same probability, which generate the loss of ~3....\\\n",
    "However, current model start with a loss of ~27..., which mean it is confidently wrong"
   ]
  },
  {
   "cell_type": "code",
   "execution_count": 19,
   "id": "6bf5385e-81e2-443a-b71a-55ad0596d93d",
   "metadata": {},
   "outputs": [
    {
     "data": {
      "text/plain": [
       "tensor(3.2958)"
      ]
     },
     "execution_count": 19,
     "metadata": {},
     "output_type": "execute_result"
    }
   ],
   "source": [
    "-torch.tensor(1/27.0).log()"
   ]
  },
  {
   "cell_type": "code",
   "execution_count": 28,
   "id": "9c5b01b4-aacf-4a27-aa01-c9c973fa1b8f",
   "metadata": {},
   "outputs": [
    {
     "data": {
      "text/plain": [
       "(tensor([ 1.1612, -6.6775, -7.1156, 12.6577]),\n",
       " tensor([1.0166e-05, 4.0074e-09, 2.5856e-09, 9.9999e-01]),\n",
       " tensor(19.7733))"
      ]
     },
     "execution_count": 28,
     "metadata": {},
     "output_type": "execute_result"
    }
   ],
   "source": [
    "# 4-dimensional example of the issue\n",
    "# logits = torch.tensor([-3.0, 5.0, 0.0, 2.0])\n",
    "logits = torch.randn(4) * 10\n",
    "probs = torch.softmax(logits, dim=0)\n",
    "loss = -probs[2].log()\n",
    "logits, probs, loss"
   ]
  },
  {
   "cell_type": "markdown",
   "id": "3a550974-13b5-4dbd-a74b-d8a2ec564cac",
   "metadata": {},
   "source": [
    "## Let's fix this issue"
   ]
  },
  {
   "cell_type": "code",
   "execution_count": 47,
   "id": "1850804d-739c-4d3c-b7be-623424945e4f",
   "metadata": {},
   "outputs": [],
   "source": [
    "n_embd = 10\n",
    "n_hidden = 200\n",
    "\n",
    "g = torch.Generator().manual_seed(2147483647)\n",
    "C = torch.randn((vocab_size,n_embd), generator=g) # make a look up table for character embedding\n",
    "# make first layer\n",
    "W1 = torch.randn((n_embd*block_size,n_hidden), generator=g)\n",
    "b1 = torch.randn(n_hidden, generator=g)\n",
    "# Make second layer\n",
    "W2 = torch.randn((n_hidden,vocab_size), generator=g) * 0.01 # make sure output is close to zero\n",
    "b2 = torch.randn(vocab_size, generator=g)*0 # set bias to 0 -> output dont have offset\n",
    "parameters = [C,W1,b1,W2,b2]\n",
    "\n",
    "sum(p.nelement() for p in parameters)\n",
    "\n",
    "for p in parameters:\n",
    "    p.requires_grad = True"
   ]
  },
  {
   "cell_type": "code",
   "execution_count": 48,
   "id": "72aa6012-a4b2-40ef-8fbe-e75e3c1b6c26",
   "metadata": {},
   "outputs": [
    {
     "name": "stdout",
     "output_type": "stream",
     "text": [
      "      0/ 200000: 3.3045\n",
      "  10000/ 200000: 2.1836\n",
      "  20000/ 200000: 2.1685\n",
      "  30000/ 200000: 2.3543\n",
      "  40000/ 200000: 2.0478\n",
      "  50000/ 200000: 2.2956\n",
      "  60000/ 200000: 2.2847\n",
      "  70000/ 200000: 2.3299\n",
      "  80000/ 200000: 2.0465\n",
      "  90000/ 200000: 2.2547\n",
      " 100000/ 200000: 2.3674\n",
      " 110000/ 200000: 2.1324\n",
      " 120000/ 200000: 1.9626\n",
      " 130000/ 200000: 1.9588\n",
      " 140000/ 200000: 2.0331\n",
      " 150000/ 200000: 2.0479\n",
      " 160000/ 200000: 1.9272\n",
      " 170000/ 200000: 1.9748\n",
      " 180000/ 200000: 2.0124\n",
      " 190000/ 200000: 1.9425\n"
     ]
    }
   ],
   "source": [
    "max_step = 200000\n",
    "batch_size = 32\n",
    "lossi = []\n",
    "\n",
    "for i in range(max_step):\n",
    "\n",
    "    # minibatch construct\n",
    "    ix = torch.randint(0, Xtr.shape[0], (batch_size,))\n",
    "    \n",
    "    # foward pass\n",
    "    emb = C[Xtr[ix]]\n",
    "    h = torch.tanh(emb.view(emb.shape[0],-1) @ W1 + b1) \n",
    "    logits = h @ W2 + b2\n",
    "    loss = F.cross_entropy(logits, Ytr[ix])  \n",
    "    \n",
    "    # backward pass\n",
    "    for p in parameters:\n",
    "        p.grad = None\n",
    "    loss.backward()\n",
    "    \n",
    "    # update\n",
    "    lr = 0.1 if i<100000 else 0.01\n",
    "    for p in parameters:\n",
    "        p.data += -lr*p.grad\n",
    "\n",
    "    # track stats\n",
    "    if i%10000==0: # print every once in a while\n",
    "        print(f'{i:7d}/{max_step:7d}: {loss.item():.4f}')\n",
    "    lossi.append(loss.log10().item())\n",
    "\n",
    "    "
   ]
  },
  {
   "cell_type": "code",
   "execution_count": 49,
   "id": "29d9cacd-045b-4e3c-bba6-eae6cdd5247b",
   "metadata": {},
   "outputs": [
    {
     "data": {
      "text/plain": [
       "[<matplotlib.lines.Line2D at 0x7f83441e15d0>]"
      ]
     },
     "execution_count": 49,
     "metadata": {},
     "output_type": "execute_result"
    },
    {
     "data": {
      "image/png": "[encoded data removed]",
      "text/plain": [
       "<Figure size 640x480 with 1 Axes>"
      ]
     },
     "metadata": {},
     "output_type": "display_data"
    }
   ],
   "source": [
    "plt.plot(lossi)"
   ]
  },
  {
   "cell_type": "code",
   "execution_count": 50,
   "id": "a0e9d8e9-76e9-40b5-88c6-cb2505c6c591",
   "metadata": {},
   "outputs": [
    {
     "name": "stdout",
     "output_type": "stream",
     "text": [
      "train 2.0665314197540283\n",
      "val 2.1506476402282715\n"
     ]
    }
   ],
   "source": [
    "split_loss('train')\n",
    "split_loss('val')"
   ]
  },
  {
   "cell_type": "markdown",
   "id": "f83dac03-0b43-4468-9d78-c673ed78beaa",
   "metadata": {},
   "source": [
    "## Problem on Tanh's saturization\n",
    "Many 1 or -1 exist in hidden layer due to the saturaziation of tanh"
   ]
  },
  {
   "cell_type": "code",
   "execution_count": 51,
   "id": "bbbee8ee-6ccd-4827-9be4-9e9c27f0d860",
   "metadata": {},
   "outputs": [],
   "source": [
    "n_embd = 10\n",
    "n_hidden = 200\n",
    "\n",
    "g = torch.Generator().manual_seed(2147483647)\n",
    "C = torch.randn((vocab_size,n_embd), generator=g) # make a look up table for character embedding\n",
    "# make first layer\n",
    "W1 = torch.randn((n_embd*block_size,n_hidden), generator=g)\n",
    "b1 = torch.randn(n_hidden, generator=g)\n",
    "# Make second layer\n",
    "W2 = torch.randn((n_hidden,vocab_size), generator=g) * 0.01 # to make output is close to zero\n",
    "b2 = torch.randn(vocab_size, generator=g)*0 # set bias to 0 -> output dont have offset\n",
    "parameters = [C,W1,b1,W2,b2]\n",
    "\n",
    "sum(p.nelement() for p in parameters)\n",
    "\n",
    "for p in parameters:\n",
    "    p.requires_grad = True"
   ]
  },
  {
   "cell_type": "code",
   "execution_count": 52,
   "id": "45d31a40-fe17-449c-a270-3d3b7a88914e",
   "metadata": {},
   "outputs": [
    {
     "name": "stdout",
     "output_type": "stream",
     "text": [
      "      0/ 200000: 3.2907\n"
     ]
    }
   ],
   "source": [
    "max_step = 200000\n",
    "batch_size = 32\n",
    "lossi = []\n",
    "\n",
    "for i in range(max_step):\n",
    "\n",
    "    # minibatch construct\n",
    "    ix = torch.randint(0, Xtr.shape[0], (batch_size,))\n",
    "    \n",
    "    # foward pass\n",
    "    emb = C[Xtr[ix]]\n",
    "    hpreact = emb.view(emb.shape[0],-1) @ W1 + b1\n",
    "    h = torch.tanh(hpreact) \n",
    "    logits = h @ W2 + b2\n",
    "    loss = F.cross_entropy(logits, Ytr[ix])  \n",
    "    \n",
    "    # backward pass\n",
    "    for p in parameters:\n",
    "        p.grad = None\n",
    "    loss.backward()\n",
    "    \n",
    "    # update\n",
    "    lr = 0.1 if i<100000 else 0.01\n",
    "    for p in parameters:\n",
    "        p.data += -lr*p.grad\n",
    "\n",
    "    # track stats\n",
    "    if i%10000==0: # print every once in a while\n",
    "        print(f'{i:7d}/{max_step:7d}: {loss.item():.4f}')\n",
    "    lossi.append(loss.log10().item())\n",
    "\n",
    "    break"
   ]
  },
  {
   "cell_type": "code",
   "execution_count": 53,
   "id": "b63aa553-ffa0-492d-9fda-74b29c2a487d",
   "metadata": {},
   "outputs": [
    {
     "data": {
      "text/plain": [
       "(array([2188.,  155.,   93.,   81.,   56.,   41.,   27.,   28.,   25.,\n",
       "          21.,   27.,   35.,   29.,   26.,   17.,   17.,   22.,   15.,\n",
       "          27.,   10.,   27.,   43.,   29.,   15.,   10.,   15.,   23.,\n",
       "          22.,   19.,   15.,   12.,   33.,   27.,   20.,   25.,   21.,\n",
       "          28.,   17.,   28.,   33.,   20.,   42.,   29.,   28.,   36.,\n",
       "          84.,   77.,   95.,  164., 2423.]),\n",
       " array([-1.  , -0.96, -0.92, -0.88, -0.84, -0.8 , -0.76, -0.72, -0.68,\n",
       "        -0.64, -0.6 , -0.56, -0.52, -0.48, -0.44, -0.4 , -0.36, -0.32,\n",
       "        -0.28, -0.24, -0.2 , -0.16, -0.12, -0.08, -0.04,  0.  ,  0.04,\n",
       "         0.08,  0.12,  0.16,  0.2 ,  0.24,  0.28,  0.32,  0.36,  0.4 ,\n",
       "         0.44,  0.48,  0.52,  0.56,  0.6 ,  0.64,  0.68,  0.72,  0.76,\n",
       "         0.8 ,  0.84,  0.88,  0.92,  0.96,  1.  ]),\n",
       " <BarContainer object of 50 artists>)"
      ]
     },
     "execution_count": 53,
     "metadata": {},
     "output_type": "execute_result"
    },
    {
     "data": {
      "image/png": "[encoded data removed]",
      "text/plain": [
       "<Figure size 640x480 with 1 Axes>"
      ]
     },
     "metadata": {},
     "output_type": "display_data"
    }
   ],
   "source": [
    "plt.hist(h.view(-1).tolist(), 50)"
   ]
  },
  {
   "cell_type": "code",
   "execution_count": 55,
   "id": "17d87b17-292f-40ae-9214-163c8492a7f1",
   "metadata": {},
   "outputs": [
    {
     "data": {
      "text/plain": [
       "(array([  4.,   2.,   0.,   5.,   2.,   2.,   7.,  19.,  13.,  25.,  34.,\n",
       "         52.,  47.,  90., 101., 187., 181., 257., 269., 305., 291., 359.,\n",
       "        387., 407., 382., 403., 404., 343., 324., 265., 257., 206., 206.,\n",
       "        117., 134.,  71.,  76.,  49.,  28.,  22.,  17.,  14.,  10.,  13.,\n",
       "          5.,   3.,   3.,   0.,   0.,   2.]),\n",
       " array([-20.4306221 , -19.58204082, -18.73345955, -17.88487827,\n",
       "        -17.036297  , -16.18771572, -15.33913445, -14.49055317,\n",
       "        -13.64197189, -12.79339062, -11.94480934, -11.09622807,\n",
       "        -10.24764679,  -9.39906551,  -8.55048424,  -7.70190296,\n",
       "         -6.85332169,  -6.00474041,  -5.15615913,  -4.30757786,\n",
       "         -3.45899658,  -2.61041531,  -1.76183403,  -0.91325275,\n",
       "         -0.06467148,   0.7839098 ,   1.63249107,   2.48107235,\n",
       "          3.32965363,   4.1782349 ,   5.02681618,   5.87539745,\n",
       "          6.72397873,   7.57256001,   8.42114128,   9.26972256,\n",
       "         10.11830383,  10.96688511,  11.81546638,  12.66404766,\n",
       "         13.51262894,  14.36121021,  15.20979149,  16.05837276,\n",
       "         16.90695404,  17.75553532,  18.60411659,  19.45269787,\n",
       "         20.30127914,  21.14986042,  21.9984417 ]),\n",
       " <BarContainer object of 50 artists>)"
      ]
     },
     "execution_count": 55,
     "metadata": {},
     "output_type": "execute_result"
    },
    {
     "data": {
      "image/png": "[encoded data removed]",
      "text/plain": [
       "<Figure size 640x480 with 1 Axes>"
      ]
     },
     "metadata": {},
     "output_type": "display_data"
    }
   ],
   "source": [
    "plt.hist(hpreact.view(-1).tolist(), 50)"
   ]
  },
  {
   "cell_type": "markdown",
   "id": "31bf7b50-cb87-44d0-9adb-1c634aead1df",
   "metadata": {},
   "source": [
    "This problem come from the characteristics of tanh function:\\\n",
    "far from 0, saturaziation or flat region -> gradient squash to 0\\\n",
    "close to 0 -> gradient get close to 1"
   ]
  },
  {
   "cell_type": "code",
   "execution_count": 59,
   "id": "ef1a92d1-3877-4d1b-a10e-d9a9645bd069",
   "metadata": {},
   "outputs": [
    {
     "data": {
      "text/plain": [
       "<matplotlib.image.AxesImage at 0x7f83134aa560>"
      ]
     },
     "execution_count": 59,
     "metadata": {},
     "output_type": "execute_result"
    },
    {
     "data": {
      "image/png": "[encoded data removed]",
      "text/plain": [
       "<Figure size 2000x1000 with 1 Axes>"
      ]
     },
     "metadata": {},
     "output_type": "display_data"
    }
   ],
   "source": [
    "plt.figure(figsize=(20,10))\n",
    "plt.imshow(h.abs()>0.99, cmap='gray', interpolation='nearest')"
   ]
  },
  {
   "cell_type": "markdown",
   "id": "0b30e8bf-81eb-4dfa-b86d-5b84c4e9d75f",
   "metadata": {},
   "source": [
    "White -> neuron activated in flat region\\\n",
    "If there is an all-white column -> dead neuron because that neuron will never learn anything in any case\\\n",
    "This problem of saturization also exist in other activation function. For example:\n",
    "1. In sigmoid, in tail regions\n",
    "2. in negative regions\n",
    "\n",
    "To fix this, set bias and weight in layer of h to have close to 0 values -> output close to zero"
   ]
  },
  {
   "cell_type": "code",
   "execution_count": 67,
   "id": "6c774619-638c-41d6-a723-712a458dc9ce",
   "metadata": {},
   "outputs": [],
   "source": [
    "n_embd = 10\n",
    "n_hidden = 200\n",
    "\n",
    "g = torch.Generator().manual_seed(2147483647)\n",
    "C = torch.randn((vocab_size,n_embd), generator=g) # make a look up table for character embedding\n",
    "# make first layer\n",
    "W1 = torch.randn((n_embd*block_size,n_hidden), generator=g)*0.2 # to make sure output is close to zero\n",
    "b1 = torch.randn(n_hidden, generator=g)*0.01 # to make sure output is close to zero\n",
    "# Make second layer\n",
    "W2 = torch.randn((n_hidden,vocab_size), generator=g) * 0.01 # to make output is close to zero\n",
    "b2 = torch.randn(vocab_size, generator=g)*0 # set bias to 0 -> output dont have offset\n",
    "parameters = [C,W1,b1,W2,b2]\n",
    "\n",
    "sum(p.nelement() for p in parameters)\n",
    "\n",
    "for p in parameters:\n",
    "    p.requires_grad = True"
   ]
  },
  {
   "cell_type": "code",
   "execution_count": 70,
   "id": "ddfce589-3da9-40bc-9358-bfe97546d675",
   "metadata": {},
   "outputs": [
    {
     "name": "stdout",
     "output_type": "stream",
     "text": [
      "      0/ 200000: 3.2593\n",
      "  10000/ 200000: 1.8719\n",
      "  20000/ 200000: 2.7464\n",
      "  30000/ 200000: 1.9647\n",
      "  40000/ 200000: 1.9976\n",
      "  50000/ 200000: 2.0655\n",
      "  60000/ 200000: 2.0101\n",
      "  70000/ 200000: 2.2234\n",
      "  80000/ 200000: 1.9533\n",
      "  90000/ 200000: 1.8898\n",
      " 100000/ 200000: 2.0008\n",
      " 110000/ 200000: 1.8615\n",
      " 120000/ 200000: 1.8404\n",
      " 130000/ 200000: 2.1649\n",
      " 140000/ 200000: 2.4408\n",
      " 150000/ 200000: 2.2675\n",
      " 160000/ 200000: 1.9037\n",
      " 170000/ 200000: 2.2371\n",
      " 180000/ 200000: 1.9394\n",
      " 190000/ 200000: 2.2337\n"
     ]
    }
   ],
   "source": [
    "max_step = 200000\n",
    "batch_size = 32\n",
    "lossi = []\n",
    "\n",
    "for i in range(max_step):\n",
    "\n",
    "    # minibatch construct\n",
    "    ix = torch.randint(0, Xtr.shape[0], (batch_size,))\n",
    "    \n",
    "    # foward pass\n",
    "    emb = C[Xtr[ix]]\n",
    "    hpreact = emb.view(emb.shape[0],-1) @ W1 + b1\n",
    "    h = torch.tanh(hpreact) \n",
    "    logits = h @ W2 + b2\n",
    "    loss = F.cross_entropy(logits, Ytr[ix])  \n",
    "    \n",
    "    # backward pass\n",
    "    for p in parameters:\n",
    "        p.grad = None\n",
    "    loss.backward()\n",
    "    \n",
    "    # update\n",
    "    lr = 0.1 if i<100000 else 0.01\n",
    "    for p in parameters:\n",
    "        p.data += -lr*p.grad\n",
    "\n",
    "    # track stats\n",
    "    if i%10000==0: # print every once in a while\n",
    "        print(f'{i:7d}/{max_step:7d}: {loss.item():.4f}')\n",
    "    lossi.append(loss.log10().item())"
   ]
  },
  {
   "cell_type": "code",
   "execution_count": 69,
   "id": "470b0859-a5c9-4d1e-a625-a0392001afcc",
   "metadata": {},
   "outputs": [
    {
     "data": {
      "text/plain": [
       "<matplotlib.image.AxesImage at 0x7f831332b490>"
      ]
     },
     "execution_count": 69,
     "metadata": {},
     "output_type": "execute_result"
    },
    {
     "data": {
      "image/png": "[encoded data removed]",
      "text/plain": [
       "<Figure size 2000x1000 with 1 Axes>"
      ]
     },
     "metadata": {},
     "output_type": "display_data"
    }
   ],
   "source": [
    "# No dead neuron\n",
    "plt.figure(figsize=(20,10))\n",
    "plt.imshow(h.abs()>0.99, cmap='gray', interpolation='nearest')"
   ]
  },
  {
   "cell_type": "code",
   "execution_count": 71,
   "id": "023c1962-235a-407e-a096-15009ab9b4ca",
   "metadata": {},
   "outputs": [
    {
     "name": "stdout",
     "output_type": "stream",
     "text": [
      "train 2.0347900390625\n",
      "val 2.1198220252990723\n"
     ]
    }
   ],
   "source": [
    "split_loss('train')\n",
    "split_loss('val')"
   ]
  },
  {
   "cell_type": "markdown",
   "id": "6a099450-e181-4666-92ba-51fdf83070d0",
   "metadata": {},
   "source": [
    "## Problem in preserve the variance in distribution of input  after layer"
   ]
  },
  {
   "cell_type": "code",
   "execution_count": 73,
   "id": "1aacd288-2820-4c88-a1b9-de601ddc7b3e",
   "metadata": {},
   "outputs": [
    {
     "name": "stdout",
     "output_type": "stream",
     "text": [
      "tensor(-0.0089) tensor(1.0031)\n",
      "tensor(-0.0003) tensor(1.0191)\n"
     ]
    },
    {
     "data": {
      "text/plain": [
       "(array([1.85840580e-05, 0.00000000e+00, 0.00000000e+00, 0.00000000e+00,\n",
       "        3.71681161e-05, 0.00000000e+00, 3.71681161e-05, 1.85840580e-05,\n",
       "        1.85840580e-05, 7.43362321e-05, 2.41592754e-04, 4.83185509e-04,\n",
       "        6.87610147e-04, 1.39380435e-03, 2.04424638e-03, 3.99557248e-03,\n",
       "        7.04335799e-03, 1.20238855e-02, 2.02752073e-02, 3.74282929e-02,\n",
       "        5.61238552e-02, 8.89990539e-02, 1.35180438e-01, 1.95188361e-01,\n",
       "        2.62983005e-01, 3.33974107e-01, 3.90153714e-01, 4.22211214e-01,\n",
       "        4.07325384e-01, 3.64377626e-01, 2.98385636e-01, 2.25071527e-01,\n",
       "        1.61718473e-01, 1.07824705e-01, 7.20503930e-02, 4.49920045e-02,\n",
       "        2.68911320e-02, 1.58707856e-02, 8.84601162e-03, 5.24070436e-03,\n",
       "        3.49380291e-03, 2.15575073e-03, 9.66371018e-04, 3.90265219e-04,\n",
       "        2.60176812e-04, 1.11504348e-04, 1.67256522e-04, 0.00000000e+00,\n",
       "        0.00000000e+00, 3.71681161e-05]),\n",
       " array([-7.46371937, -7.19467156, -6.92562376, -6.65657596, -6.38752815,\n",
       "        -6.11848035, -5.84943254, -5.58038474, -5.31133694, -5.04228913,\n",
       "        -4.77324133, -4.50419353, -4.23514572, -3.96609792, -3.69705011,\n",
       "        -3.42800231, -3.15895451, -2.8899067 , -2.6208589 , -2.35181109,\n",
       "        -2.08276329, -1.81371549, -1.54466768, -1.27561988, -1.00657207,\n",
       "        -0.73752427, -0.46847647, -0.19942866,  0.06961914,  0.33866694,\n",
       "         0.60771475,  0.87676255,  1.14581036,  1.41485816,  1.68390596,\n",
       "         1.95295377,  2.22200157,  2.49104938,  2.76009718,  3.02914498,\n",
       "         3.29819279,  3.56724059,  3.83628839,  4.1053362 ,  4.374384  ,\n",
       "         4.64343181,  4.91247961,  5.18152741,  5.45057522,  5.71962302,\n",
       "         5.98867083]),\n",
       " <BarContainer object of 50 artists>)"
      ]
     },
     "execution_count": 73,
     "metadata": {},
     "output_type": "execute_result"
    },
    {
     "data": {
      "image/png": "[encoded data removed]",
      "text/plain": [
       "<Figure size 2000x500 with 2 Axes>"
      ]
     },
     "metadata": {},
     "output_type": "display_data"
    }
   ],
   "source": [
    "x = torch.randn(1000,10)\n",
    "w = torch.randn(10,200)/10**0.5 # Fan in  - Kaiming\n",
    "y = x@w\n",
    "print(x.mean(), x.std())\n",
    "print(y.mean(), y.std())\n",
    "plt.figure(figsize=(20,5))\n",
    "plt.subplot(121)\n",
    "plt.hist(x.view(-1).tolist(), 50, density=True)\n",
    "plt.subplot(122)\n",
    "plt.hist(y.view(-1).tolist(), 50, density=True)"
   ]
  },
  {
   "cell_type": "code",
   "execution_count": 74,
   "id": "4eea1f6f-6134-4f52-a0d6-7595afeab1ab",
   "metadata": {},
   "outputs": [],
   "source": [
    "n_embd = 10\n",
    "n_hidden = 200\n",
    "\n",
    "g = torch.Generator().manual_seed(2147483647)\n",
    "C = torch.randn((vocab_size,n_embd), generator=g) # make a look up table for character embedding\n",
    "# make first layer\n",
    "W1 = torch.randn((n_embd*block_size,n_hidden), generator=g)*(5/3)/((n_embd*block_size)**0.5) # Kaiming initialization for tanh acitvation\n",
    "b1 = torch.randn(n_hidden, generator=g)*0.01 # to make sure output is close to zero\n",
    "# Make second layer\n",
    "W2 = torch.randn((n_hidden,vocab_size), generator=g) * 0.01 # to make output is close to zero\n",
    "b2 = torch.randn(vocab_size, generator=g)*0 # set bias to 0 -> output dont have offset\n",
    "parameters = [C,W1,b1,W2,b2]\n",
    "\n",
    "sum(p.nelement() for p in parameters)\n",
    "\n",
    "for p in parameters:\n",
    "    p.requires_grad = True"
   ]
  },
  {
   "cell_type": "code",
   "execution_count": 75,
   "id": "effc08a2-130b-47a5-a1be-73bac6f8178e",
   "metadata": {},
   "outputs": [
    {
     "name": "stdout",
     "output_type": "stream",
     "text": [
      "      0/ 200000: 3.3269\n",
      "  10000/ 200000: 2.0883\n",
      "  20000/ 200000: 1.6095\n",
      "  30000/ 200000: 2.1317\n",
      "  40000/ 200000: 1.8603\n",
      "  50000/ 200000: 1.9653\n",
      "  60000/ 200000: 2.4645\n",
      "  70000/ 200000: 2.2375\n",
      "  80000/ 200000: 1.8574\n",
      "  90000/ 200000: 2.2136\n",
      " 100000/ 200000: 2.1873\n",
      " 110000/ 200000: 1.8964\n",
      " 120000/ 200000: 1.9193\n",
      " 130000/ 200000: 1.8756\n",
      " 140000/ 200000: 2.0431\n",
      " 150000/ 200000: 2.1658\n",
      " 160000/ 200000: 2.0476\n",
      " 170000/ 200000: 1.8547\n",
      " 180000/ 200000: 1.7134\n",
      " 190000/ 200000: 2.2329\n"
     ]
    }
   ],
   "source": [
    "max_step = 200000\n",
    "batch_size = 32\n",
    "lossi = []\n",
    "\n",
    "for i in range(max_step):\n",
    "\n",
    "    # minibatch construct\n",
    "    ix = torch.randint(0, Xtr.shape[0], (batch_size,))\n",
    "    \n",
    "    # foward pass\n",
    "    emb = C[Xtr[ix]]\n",
    "    hpreact = emb.view(emb.shape[0],-1) @ W1 + b1\n",
    "    h = torch.tanh(hpreact) \n",
    "    logits = h @ W2 + b2\n",
    "    loss = F.cross_entropy(logits, Ytr[ix])  \n",
    "    \n",
    "    # backward pass\n",
    "    for p in parameters:\n",
    "        p.grad = None\n",
    "    loss.backward()\n",
    "    \n",
    "    # update\n",
    "    lr = 0.1 if i<100000 else 0.01\n",
    "    for p in parameters:\n",
    "        p.data += -lr*p.grad\n",
    "\n",
    "    # track stats\n",
    "    if i%10000==0: # print every once in a while\n",
    "        print(f'{i:7d}/{max_step:7d}: {loss.item():.4f}')\n",
    "    lossi.append(loss.log10().item())"
   ]
  },
  {
   "cell_type": "code",
   "execution_count": 76,
   "id": "3f0b940d-26e8-43b6-8b79-ed6a7cf140a7",
   "metadata": {},
   "outputs": [
    {
     "name": "stdout",
     "output_type": "stream",
     "text": [
      "train 2.0369873046875\n",
      "val 2.119870185852051\n"
     ]
    }
   ],
   "source": [
    "split_loss('train')\n",
    "split_loss('val')"
   ]
  },
  {
   "cell_type": "code",
   "execution_count": null,
   "id": "3246b648-b0a6-4445-9097-08e16a50e829",
   "metadata": {},
   "outputs": [],
   "source": []
  }
 ],
 "metadata": {
  "kernelspec": {
   "display_name": "Python 3 (ipykernel)",
   "language": "python",
   "name": "python3"
  },
  "language_info": {
   "codemirror_mode": {
    "name": "ipython",
    "version": 3
   },
   "file_extension": ".py",
   "mimetype": "text/x-python",
   "name": "python",
   "nbconvert_exporter": "python",
   "pygments_lexer": "ipython3",
   "version": "3.10.6"
  }
 },
 "nbformat": 4,
 "nbformat_minor": 5
}
