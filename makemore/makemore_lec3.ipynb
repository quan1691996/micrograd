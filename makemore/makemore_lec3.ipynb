{
 "cells": [
  {
   "cell_type": "code",
   "execution_count": 1,
   "id": "a8bee167-2dc6-4e7c-9fa6-389006f6a96a",
   "metadata": {},
   "outputs": [],
   "source": [
    "import torch\n",
    "import torch.nn.functional as F\n",
    "import matplotlib.pyplot as plt \n",
    "%matplotlib inline"
   ]
  },
  {
   "cell_type": "code",
   "execution_count": 3,
   "id": "402e6c3c-2bc4-49a5-8433-ba33f7f0c1b2",
   "metadata": {},
   "outputs": [
    {
     "data": {
      "text/plain": [
       "['emma', 'olivia', 'ava', 'isabella', 'sophia', 'charlotte', 'mia', 'amelia']"
      ]
     },
     "execution_count": 3,
     "metadata": {},
     "output_type": "execute_result"
    }
   ],
   "source": [
    "words = open('names.txt','r').read().splitlines()\n",
    "words[:8]"
   ]
  },
  {
   "cell_type": "code",
   "execution_count": 4,
   "id": "45af50af-7820-4581-bda6-700ba173df54",
   "metadata": {},
   "outputs": [
    {
     "name": "stdout",
     "output_type": "stream",
     "text": [
      "{1: 'a', 2: 'b', 3: 'c', 4: 'd', 5: 'e', 6: 'f', 7: 'g', 8: 'h', 9: 'i', 10: 'j', 11: 'k', 12: 'l', 13: 'm', 14: 'n', 15: 'o', 16: 'p', 17: 'q', 18: 'r', 19: 's', 20: 't', 21: 'u', 22: 'v', 23: 'w', 24: 'x', 25: 'y', 26: 'z', 0: '.'}\n",
      "27\n"
     ]
    }
   ],
   "source": [
    "# Make the vocabulary of characters and mapping to/from integers\n",
    "chars = sorted(list(set(''.join(words))))\n",
    "stoi = {s:i+1 for i,s in enumerate(chars)}\n",
    "stoi['.'] = 0\n",
    "itos = {i:s for s, i in stoi.items()}\n",
    "vocab_size = len(itos)\n",
    "print(itos)\n",
    "print(vocab_size)"
   ]
  },
  {
   "cell_type": "code",
   "execution_count": 5,
   "id": "a5b47f58-87ea-460d-857f-beb79d3e5c77",
   "metadata": {},
   "outputs": [
    {
     "name": "stdout",
     "output_type": "stream",
     "text": [
      "torch.Size([182625, 3]) torch.Size([182625])\n",
      "torch.Size([22655, 3]) torch.Size([22655])\n",
      "torch.Size([22866, 3]) torch.Size([22866])\n"
     ]
    }
   ],
   "source": [
    "block_size = 3 # lenght of content\n",
    "\n",
    "# Data split: Training, dev/validation, Test set\n",
    "def build_dataset(words):\n",
    "    X, Y = [], []\n",
    "    for w in words:\n",
    "        # print(w)\n",
    "        context = [0]*block_size\n",
    "        for ch in w + '.':\n",
    "            ix = stoi[ch]\n",
    "            X.append(context)\n",
    "            Y.append(ix)\n",
    "            # print(''.join(itos[i] for i in context), '-->', itos[ix])\n",
    "            context = context[1:] + [ix] # shift window of context to right\n",
    "    \n",
    "    X = torch.tensor(X)\n",
    "    Y = torch.tensor(Y)  \n",
    "    print(X.shape, Y.shape)\n",
    "    return X, Y\n",
    "\n",
    "import random\n",
    "random.seed(42)\n",
    "random.shuffle(words)\n",
    "n1 = int(0.8*len(words))\n",
    "n2 = int(0.9*len(words))\n",
    "\n",
    "Xtr,Ytr = build_dataset(words[:n1])\n",
    "Xdev, Ydev = build_dataset(words[n1:n2])\n",
    "Xte,Yte = build_dataset(words[n2:])"
   ]
  },
  {
   "cell_type": "code",
   "execution_count": 6,
   "id": "222ac988-b088-47ce-931d-e3717e98f212",
   "metadata": {},
   "outputs": [],
   "source": [
    "n_embd = 10\n",
    "n_hidden = 200\n",
    "\n",
    "g = torch.Generator().manual_seed(2147483647)\n",
    "C = torch.randn((vocab_size,n_embd), generator=g) # make a look up table for character embedding\n",
    "# make first layer\n",
    "W1 = torch.randn((n_embd*block_size,n_hidden), generator=g)\n",
    "b1 = torch.randn(n_hidden, generator=g)\n",
    "# Make second layer\n",
    "W2 = torch.randn((n_hidden,vocab_size), generator=g)\n",
    "b2 = torch.randn(vocab_size, generator=g)\n",
    "parameters = [C,W1,b1,W2,b2]\n",
    "\n",
    "sum(p.nelement() for p in parameters)\n",
    "\n",
    "for p in parameters:\n",
    "    p.requires_grad = True"
   ]
  },
  {
   "cell_type": "code",
   "execution_count": 6,
   "id": "adfd3223-1b0e-43be-9f8e-a344f78a5dbc",
   "metadata": {},
   "outputs": [
    {
     "name": "stdout",
     "output_type": "stream",
     "text": [
      "      0/ 200000: 24.6835\n",
      "  10000/ 200000: 2.2614\n",
      "  20000/ 200000: 2.5070\n",
      "  30000/ 200000: 2.9592\n",
      "  40000/ 200000: 2.2793\n",
      "  50000/ 200000: 2.0711\n",
      "  60000/ 200000: 2.6289\n",
      "  70000/ 200000: 2.6211\n",
      "  80000/ 200000: 2.4942\n",
      "  90000/ 200000: 2.1019\n",
      " 100000/ 200000: 2.3036\n",
      " 110000/ 200000: 2.3620\n",
      " 120000/ 200000: 2.1573\n",
      " 130000/ 200000: 2.0122\n",
      " 140000/ 200000: 1.9376\n",
      " 150000/ 200000: 1.9856\n",
      " 160000/ 200000: 1.8231\n",
      " 170000/ 200000: 2.1464\n",
      " 180000/ 200000: 1.9655\n",
      " 190000/ 200000: 2.1434\n"
     ]
    }
   ],
   "source": [
    "max_step = 200000\n",
    "batch_size = 32\n",
    "lossi = []\n",
    "\n",
    "for i in range(max_step):\n",
    "\n",
    "    # minibatch construct\n",
    "    ix = torch.randint(0, Xtr.shape[0], (batch_size,))\n",
    "    \n",
    "    # foward pass\n",
    "    emb = C[Xtr[ix]]\n",
    "    h = torch.tanh(emb.view(emb.shape[0],-1) @ W1 + b1) \n",
    "    logits = h @ W2 + b2\n",
    "    loss = F.cross_entropy(logits, Ytr[ix])  \n",
    "    \n",
    "    # backward pass\n",
    "    for p in parameters:\n",
    "        p.grad = None\n",
    "    loss.backward()\n",
    "    \n",
    "    # update\n",
    "    lr = 0.1 if i<100000 else 0.01\n",
    "    for p in parameters:\n",
    "        p.data += -lr*p.grad\n",
    "\n",
    "    # track stats\n",
    "    if i%10000==0: # print every once in a while\n",
    "        print(f'{i:7d}/{max_step:7d}: {loss.item():.4f}')\n",
    "    lossi.append(loss.log10().item())\n",
    "    "
   ]
  },
  {
   "cell_type": "code",
   "execution_count": 14,
   "id": "48e2bf77-f3a3-4d49-8f9a-6f4adb2cf2ce",
   "metadata": {},
   "outputs": [
    {
     "data": {
      "text/plain": [
       "[<matplotlib.lines.Line2D at 0x7f834a782da0>]"
      ]
     },
     "execution_count": 14,
     "metadata": {},
     "output_type": "execute_result"
    },
    {
     "data": {
      "image/png": "[encoded data removed]",
      "text/plain": [
       "<Figure size 640x480 with 1 Axes>"
      ]
     },
     "metadata": {},
     "output_type": "display_data"
    }
   ],
   "source": [
    "plt.plot(lossi)"
   ]
  },
  {
   "cell_type": "code",
   "execution_count": 17,
   "id": "c28a50a1-4953-4b21-b0e7-67c97a837ea2",
   "metadata": {},
   "outputs": [
    {
     "name": "stdout",
     "output_type": "stream",
     "text": [
      "val 2.1669633388519287\n",
      "test 2.1684036254882812\n"
     ]
    }
   ],
   "source": [
    "@torch.no_grad() # this decorator disables gradient tracking\n",
    "def split_loss(split):\n",
    "    x, y = {\n",
    "        'train': (Xtr, Ytr),\n",
    "        'val': (Xdev, Ydev),\n",
    "        'test': (Xte, Yte),\n",
    "    }[split]\n",
    "    emb = C[x]\n",
    "    h = h = torch.tanh(emb.view(emb.shape[0],-1) @ W1 + b1) \n",
    "    logits = h @ W2 + b2\n",
    "    loss = F.cross_entropy(logits, y)  \n",
    "    print(split, loss.item())\n",
    "\n",
    "split_loss('val')\n",
    "split_loss('test')"
   ]
  },
  {
   "cell_type": "code",
   "execution_count": 18,
   "id": "0b4f1cd2-a544-45c0-ba7e-22d83e097e30",
   "metadata": {},
   "outputs": [
    {
     "name": "stdout",
     "output_type": "stream",
     "text": [
      "aymiaaniya.\n",
      "uce.\n",
      "avanganyya.\n",
      "greyanna.\n",
      "tahmana.\n",
      "andi.\n",
      "gap.\n",
      "adorraylosalara.\n",
      "kaylani.\n",
      "driellonelis.\n",
      "adson.\n",
      "kariah.\n",
      "ggos.\n",
      "malane.\n",
      "daylanie.\n",
      "chovangvivina.\n",
      "xaleopalon.\n",
      "jaylonsad.\n",
      "octuzian.\n",
      "mah.\n"
     ]
    }
   ],
   "source": [
    "# sample from the model\n",
    "for _ in range(20):\n",
    "\n",
    "    out = []\n",
    "    context = [0]*block_size\n",
    "    while True:\n",
    "        emb = C[torch.tensor([context])]\n",
    "        h = h = torch.tanh(emb.view(emb.shape[0],-1) @ W1 + b1) \n",
    "        logits = h @ W2 + b2\n",
    "        probs = F.softmax(logits, dim=1)\n",
    "        ix = torch.multinomial(probs, num_samples=1, generator=g).item()\n",
    "        context = context[1:] + [ix]\n",
    "        out.append(ix)\n",
    "\n",
    "        if ix==0:\n",
    "            break\n",
    "\n",
    "    print(''.join(itos[i] for i in out))"
   ]
  },
  {
   "cell_type": "markdown",
   "id": "33781671-2ec1-4f7b-b5cc-4d9ea0bc2828",
   "metadata": {},
   "source": [
    "## Problem on Model initialization\n",
    "At this stage, the model start with a too much high loss\\\n",
    "At first, we can expect the model to have a loss in which it predict every word at same probability, which generate the loss of ~3....\\\n",
    "However, current model start with a loss of ~27..., which mean it is confidently wrong"
   ]
  },
  {
   "cell_type": "code",
   "execution_count": 19,
   "id": "6bf5385e-81e2-443a-b71a-55ad0596d93d",
   "metadata": {},
   "outputs": [
    {
     "data": {
      "text/plain": [
       "tensor(3.2958)"
      ]
     },
     "execution_count": 19,
     "metadata": {},
     "output_type": "execute_result"
    }
   ],
   "source": [
    "-torch.tensor(1/27.0).log()"
   ]
  },
  {
   "cell_type": "code",
   "execution_count": 28,
   "id": "9c5b01b4-aacf-4a27-aa01-c9c973fa1b8f",
   "metadata": {},
   "outputs": [
    {
     "data": {
      "text/plain": [
       "(tensor([ 1.1612, -6.6775, -7.1156, 12.6577]),\n",
       " tensor([1.0166e-05, 4.0074e-09, 2.5856e-09, 9.9999e-01]),\n",
       " tensor(19.7733))"
      ]
     },
     "execution_count": 28,
     "metadata": {},
     "output_type": "execute_result"
    }
   ],
   "source": [
    "# 4-dimensional example of the issue\n",
    "# logits = torch.tensor([-3.0, 5.0, 0.0, 2.0])\n",
    "logits = torch.randn(4) * 10\n",
    "probs = torch.softmax(logits, dim=0)\n",
    "loss = -probs[2].log()\n",
    "logits, probs, loss"
   ]
  },
  {
   "cell_type": "markdown",
   "id": "3a550974-13b5-4dbd-a74b-d8a2ec564cac",
   "metadata": {},
   "source": [
    "## Let's fix this issue"
   ]
  },
  {
   "cell_type": "code",
   "execution_count": 47,
   "id": "1850804d-739c-4d3c-b7be-623424945e4f",
   "metadata": {},
   "outputs": [],
   "source": [
    "n_embd = 10\n",
    "n_hidden = 200\n",
    "\n",
    "g = torch.Generator().manual_seed(2147483647)\n",
    "C = torch.randn((vocab_size,n_embd), generator=g) # make a look up table for character embedding\n",
    "# make first layer\n",
    "W1 = torch.randn((n_embd*block_size,n_hidden), generator=g)\n",
    "b1 = torch.randn(n_hidden, generator=g)\n",
    "# Make second layer\n",
    "W2 = torch.randn((n_hidden,vocab_size), generator=g) * 0.01 # make sure output is close to zero\n",
    "b2 = torch.randn(vocab_size, generator=g)*0 # set bias to 0 -> output dont have offset\n",
    "parameters = [C,W1,b1,W2,b2]\n",
    "\n",
    "sum(p.nelement() for p in parameters)\n",
    "\n",
    "for p in parameters:\n",
    "    p.requires_grad = True"
   ]
  },
  {
   "cell_type": "code",
   "execution_count": 48,
   "id": "72aa6012-a4b2-40ef-8fbe-e75e3c1b6c26",
   "metadata": {},
   "outputs": [
    {
     "name": "stdout",
     "output_type": "stream",
     "text": [
      "      0/ 200000: 3.3045\n",
      "  10000/ 200000: 2.1836\n",
      "  20000/ 200000: 2.1685\n",
      "  30000/ 200000: 2.3543\n",
      "  40000/ 200000: 2.0478\n",
      "  50000/ 200000: 2.2956\n",
      "  60000/ 200000: 2.2847\n",
      "  70000/ 200000: 2.3299\n",
      "  80000/ 200000: 2.0465\n",
      "  90000/ 200000: 2.2547\n",
      " 100000/ 200000: 2.3674\n",
      " 110000/ 200000: 2.1324\n",
      " 120000/ 200000: 1.9626\n",
      " 130000/ 200000: 1.9588\n",
      " 140000/ 200000: 2.0331\n",
      " 150000/ 200000: 2.0479\n",
      " 160000/ 200000: 1.9272\n",
      " 170000/ 200000: 1.9748\n",
      " 180000/ 200000: 2.0124\n",
      " 190000/ 200000: 1.9425\n"
     ]
    }
   ],
   "source": [
    "max_step = 200000\n",
    "batch_size = 32\n",
    "lossi = []\n",
    "\n",
    "for i in range(max_step):\n",
    "\n",
    "    # minibatch construct\n",
    "    ix = torch.randint(0, Xtr.shape[0], (batch_size,))\n",
    "    \n",
    "    # foward pass\n",
    "    emb = C[Xtr[ix]]\n",
    "    h = torch.tanh(emb.view(emb.shape[0],-1) @ W1 + b1) \n",
    "    logits = h @ W2 + b2\n",
    "    loss = F.cross_entropy(logits, Ytr[ix])  \n",
    "    \n",
    "    # backward pass\n",
    "    for p in parameters:\n",
    "        p.grad = None\n",
    "    loss.backward()\n",
    "    \n",
    "    # update\n",
    "    lr = 0.1 if i<100000 else 0.01\n",
    "    for p in parameters:\n",
    "        p.data += -lr*p.grad\n",
    "\n",
    "    # track stats\n",
    "    if i%10000==0: # print every once in a while\n",
    "        print(f'{i:7d}/{max_step:7d}: {loss.item():.4f}')\n",
    "    lossi.append(loss.log10().item())\n",
    "\n",
    "    "
   ]
  },
  {
   "cell_type": "code",
   "execution_count": 49,
   "id": "29d9cacd-045b-4e3c-bba6-eae6cdd5247b",
   "metadata": {},
   "outputs": [
    {
     "data": {
      "text/plain": [
       "[<matplotlib.lines.Line2D at 0x7f83441e15d0>]"
      ]
     },
     "execution_count": 49,
     "metadata": {},
     "output_type": "execute_result"
    },
    {
     "data": {
      "image/png": "[encoded data removed]",
      "text/plain": [
       "<Figure size 640x480 with 1 Axes>"
      ]
     },
     "metadata": {},
     "output_type": "display_data"
    }
   ],
   "source": [
    "plt.plot(lossi)"
   ]
  },
  {
   "cell_type": "code",
   "execution_count": 50,
   "id": "a0e9d8e9-76e9-40b5-88c6-cb2505c6c591",
   "metadata": {},
   "outputs": [
    {
     "name": "stdout",
     "output_type": "stream",
     "text": [
      "train 2.0665314197540283\n",
      "val 2.1506476402282715\n"
     ]
    }
   ],
   "source": [
    "split_loss('train')\n",
    "split_loss('val')"
   ]
  },
  {
   "cell_type": "markdown",
   "id": "f83dac03-0b43-4468-9d78-c673ed78beaa",
   "metadata": {},
   "source": [
    "## Problem on Tanh's saturization\n",
    "Many 1 or -1 exist in hidden layer due to the saturaziation of tanh"
   ]
  },
  {
   "cell_type": "code",
   "execution_count": 7,
   "id": "bbbee8ee-6ccd-4827-9be4-9e9c27f0d860",
   "metadata": {},
   "outputs": [],
   "source": [
    "n_embd = 10\n",
    "n_hidden = 200\n",
    "\n",
    "g = torch.Generator().manual_seed(2147483647)\n",
    "C = torch.randn((vocab_size,n_embd), generator=g) # make a look up table for character embedding\n",
    "# make first layer\n",
    "W1 = torch.randn((n_embd*block_size,n_hidden), generator=g)\n",
    "b1 = torch.randn(n_hidden, generator=g)\n",
    "# Make second layer\n",
    "W2 = torch.randn((n_hidden,vocab_size), generator=g) * 0.01 # to make output is close to zero\n",
    "b2 = torch.randn(vocab_size, generator=g)*0 # set bias to 0 -> output dont have offset\n",
    "parameters = [C,W1,b1,W2,b2]\n",
    "\n",
    "sum(p.nelement() for p in parameters)\n",
    "\n",
    "for p in parameters:\n",
    "    p.requires_grad = True"
   ]
  },
  {
   "cell_type": "code",
   "execution_count": 52,
   "id": "45d31a40-fe17-449c-a270-3d3b7a88914e",
   "metadata": {},
   "outputs": [
    {
     "name": "stdout",
     "output_type": "stream",
     "text": [
      "      0/ 200000: 3.2907\n"
     ]
    }
   ],
   "source": [
    "max_step = 200000\n",
    "batch_size = 32\n",
    "lossi = []\n",
    "\n",
    "for i in range(max_step):\n",
    "\n",
    "    # minibatch construct\n",
    "    ix = torch.randint(0, Xtr.shape[0], (batch_size,))\n",
    "    \n",
    "    # foward pass\n",
    "    emb = C[Xtr[ix]]\n",
    "    hpreact = emb.view(emb.shape[0],-1) @ W1 + b1\n",
    "    h = torch.tanh(hpreact) \n",
    "    logits = h @ W2 + b2\n",
    "    loss = F.cross_entropy(logits, Ytr[ix])  \n",
    "    \n",
    "    # backward pass\n",
    "    for p in parameters:\n",
    "        p.grad = None\n",
    "    loss.backward()\n",
    "    \n",
    "    # update\n",
    "    lr = 0.1 if i<100000 else 0.01\n",
    "    for p in parameters:\n",
    "        p.data += -lr*p.grad\n",
    "\n",
    "    # track stats\n",
    "    if i%10000==0: # print every once in a while\n",
    "        print(f'{i:7d}/{max_step:7d}: {loss.item():.4f}')\n",
    "    lossi.append(loss.log10().item())\n",
    "\n",
    "    break"
   ]
  },
  {
   "cell_type": "code",
   "execution_count": 53,
   "id": "b63aa553-ffa0-492d-9fda-74b29c2a487d",
   "metadata": {},
   "outputs": [
    {
     "data": {
      "text/plain": [
       "(array([2188.,  155.,   93.,   81.,   56.,   41.,   27.,   28.,   25.,\n",
       "          21.,   27.,   35.,   29.,   26.,   17.,   17.,   22.,   15.,\n",
       "          27.,   10.,   27.,   43.,   29.,   15.,   10.,   15.,   23.,\n",
       "          22.,   19.,   15.,   12.,   33.,   27.,   20.,   25.,   21.,\n",
       "          28.,   17.,   28.,   33.,   20.,   42.,   29.,   28.,   36.,\n",
       "          84.,   77.,   95.,  164., 2423.]),\n",
       " array([-1.  , -0.96, -0.92, -0.88, -0.84, -0.8 , -0.76, -0.72, -0.68,\n",
       "        -0.64, -0.6 , -0.56, -0.52, -0.48, -0.44, -0.4 , -0.36, -0.32,\n",
       "        -0.28, -0.24, -0.2 , -0.16, -0.12, -0.08, -0.04,  0.  ,  0.04,\n",
       "         0.08,  0.12,  0.16,  0.2 ,  0.24,  0.28,  0.32,  0.36,  0.4 ,\n",
       "         0.44,  0.48,  0.52,  0.56,  0.6 ,  0.64,  0.68,  0.72,  0.76,\n",
       "         0.8 ,  0.84,  0.88,  0.92,  0.96,  1.  ]),\n",
       " <BarContainer object of 50 artists>)"
      ]
     },
     "execution_count": 53,
     "metadata": {},
     "output_type": "execute_result"
    },
    {
     "data": {
      "image/png": "[encoded data removed]",
      "text/plain": [
       "<Figure size 640x480 with 1 Axes>"
      ]
     },
     "metadata": {},
     "output_type": "display_data"
    }
   ],
   "source": [
    "plt.hist(h.view(-1).tolist(), 50)"
   ]
  },
  {
   "cell_type": "code",
   "execution_count": 55,
   "id": "17d87b17-292f-40ae-9214-163c8492a7f1",
   "metadata": {},
   "outputs": [
    {
     "data": {
      "text/plain": [
       "(array([  4.,   2.,   0.,   5.,   2.,   2.,   7.,  19.,  13.,  25.,  34.,\n",
       "         52.,  47.,  90., 101., 187., 181., 257., 269., 305., 291., 359.,\n",
       "        387., 407., 382., 403., 404., 343., 324., 265., 257., 206., 206.,\n",
       "        117., 134.,  71.,  76.,  49.,  28.,  22.,  17.,  14.,  10.,  13.,\n",
       "          5.,   3.,   3.,   0.,   0.,   2.]),\n",
       " array([-20.4306221 , -19.58204082, -18.73345955, -17.88487827,\n",
       "        -17.036297  , -16.18771572, -15.33913445, -14.49055317,\n",
       "        -13.64197189, -12.79339062, -11.94480934, -11.09622807,\n",
       "        -10.24764679,  -9.39906551,  -8.55048424,  -7.70190296,\n",
       "         -6.85332169,  -6.00474041,  -5.15615913,  -4.30757786,\n",
       "         -3.45899658,  -2.61041531,  -1.76183403,  -0.91325275,\n",
       "         -0.06467148,   0.7839098 ,   1.63249107,   2.48107235,\n",
       "          3.32965363,   4.1782349 ,   5.02681618,   5.87539745,\n",
       "          6.72397873,   7.57256001,   8.42114128,   9.26972256,\n",
       "         10.11830383,  10.96688511,  11.81546638,  12.66404766,\n",
       "         13.51262894,  14.36121021,  15.20979149,  16.05837276,\n",
       "         16.90695404,  17.75553532,  18.60411659,  19.45269787,\n",
       "         20.30127914,  21.14986042,  21.9984417 ]),\n",
       " <BarContainer object of 50 artists>)"
      ]
     },
     "execution_count": 55,
     "metadata": {},
     "output_type": "execute_result"
    },
    {
     "data": {
      "image/png": "[encoded data removed]",
      "text/plain": [
       "<Figure size 640x480 with 1 Axes>"
      ]
     },
     "metadata": {},
     "output_type": "display_data"
    }
   ],
   "source": [
    "plt.hist(hpreact.view(-1).tolist(), 50)"
   ]
  },
  {
   "cell_type": "markdown",
   "id": "31bf7b50-cb87-44d0-9adb-1c634aead1df",
   "metadata": {},
   "source": [
    "This problem come from the characteristics of tanh function:\\\n",
    "far from 0, saturaziation or flat region -> gradient squash to 0\\\n",
    "close to 0 -> gradient get close to 1"
   ]
  },
  {
   "cell_type": "code",
   "execution_count": 59,
   "id": "ef1a92d1-3877-4d1b-a10e-d9a9645bd069",
   "metadata": {},
   "outputs": [
    {
     "data": {
      "text/plain": [
       "<matplotlib.image.AxesImage at 0x7f83134aa560>"
      ]
     },
     "execution_count": 59,
     "metadata": {},
     "output_type": "execute_result"
    },
    {
     "data": {
      "image/png": "[encoded data removed]",
      "text/plain": [
       "<Figure size 2000x1000 with 1 Axes>"
      ]
     },
     "metadata": {},
     "output_type": "display_data"
    }
   ],
   "source": [
    "plt.figure(figsize=(20,10))\n",
    "plt.imshow(h.abs()>0.99, cmap='gray', interpolation='nearest')"
   ]
  },
  {
   "cell_type": "markdown",
   "id": "0b30e8bf-81eb-4dfa-b86d-5b84c4e9d75f",
   "metadata": {},
   "source": [
    "White -> neuron activated in flat region\\\n",
    "If there is an all-white column -> dead neuron because that neuron will never learn anything in any case\\\n",
    "This problem of saturization also exist in other activation function. For example:\n",
    "1. In sigmoid, in tail regions\n",
    "2. in negative regions\n",
    "\n",
    "To fix this, set bias and weight in layer of h to have close to 0 values -> output close to zero"
   ]
  },
  {
   "cell_type": "code",
   "execution_count": 67,
   "id": "6c774619-638c-41d6-a723-712a458dc9ce",
   "metadata": {},
   "outputs": [],
   "source": [
    "n_embd = 10\n",
    "n_hidden = 200\n",
    "\n",
    "g = torch.Generator().manual_seed(2147483647)\n",
    "C = torch.randn((vocab_size,n_embd), generator=g) # make a look up table for character embedding\n",
    "# make first layer\n",
    "W1 = torch.randn((n_embd*block_size,n_hidden), generator=g)*0.2 # to make sure output is close to zero\n",
    "b1 = torch.randn(n_hidden, generator=g)*0.01 # to make sure output is close to zero\n",
    "# Make second layer\n",
    "W2 = torch.randn((n_hidden,vocab_size), generator=g) * 0.01 # to make output is close to zero\n",
    "b2 = torch.randn(vocab_size, generator=g)*0 # set bias to 0 -> output dont have offset\n",
    "parameters = [C,W1,b1,W2,b2]\n",
    "\n",
    "sum(p.nelement() for p in parameters)\n",
    "\n",
    "for p in parameters:\n",
    "    p.requires_grad = True"
   ]
  },
  {
   "cell_type": "code",
   "execution_count": 70,
   "id": "ddfce589-3da9-40bc-9358-bfe97546d675",
   "metadata": {},
   "outputs": [
    {
     "name": "stdout",
     "output_type": "stream",
     "text": [
      "      0/ 200000: 3.2593\n",
      "  10000/ 200000: 1.8719\n",
      "  20000/ 200000: 2.7464\n",
      "  30000/ 200000: 1.9647\n",
      "  40000/ 200000: 1.9976\n",
      "  50000/ 200000: 2.0655\n",
      "  60000/ 200000: 2.0101\n",
      "  70000/ 200000: 2.2234\n",
      "  80000/ 200000: 1.9533\n",
      "  90000/ 200000: 1.8898\n",
      " 100000/ 200000: 2.0008\n",
      " 110000/ 200000: 1.8615\n",
      " 120000/ 200000: 1.8404\n",
      " 130000/ 200000: 2.1649\n",
      " 140000/ 200000: 2.4408\n",
      " 150000/ 200000: 2.2675\n",
      " 160000/ 200000: 1.9037\n",
      " 170000/ 200000: 2.2371\n",
      " 180000/ 200000: 1.9394\n",
      " 190000/ 200000: 2.2337\n"
     ]
    }
   ],
   "source": [
    "max_step = 200000\n",
    "batch_size = 32\n",
    "lossi = []\n",
    "\n",
    "for i in range(max_step):\n",
    "\n",
    "    # minibatch construct\n",
    "    ix = torch.randint(0, Xtr.shape[0], (batch_size,))\n",
    "    \n",
    "    # foward pass\n",
    "    emb = C[Xtr[ix]]\n",
    "    hpreact = emb.view(emb.shape[0],-1) @ W1 + b1\n",
    "    h = torch.tanh(hpreact) \n",
    "    logits = h @ W2 + b2\n",
    "    loss = F.cross_entropy(logits, Ytr[ix])  \n",
    "    \n",
    "    # backward pass\n",
    "    for p in parameters:\n",
    "        p.grad = None\n",
    "    loss.backward()\n",
    "    \n",
    "    # update\n",
    "    lr = 0.1 if i<100000 else 0.01\n",
    "    for p in parameters:\n",
    "        p.data += -lr*p.grad\n",
    "\n",
    "    # track stats\n",
    "    if i%10000==0: # print every once in a while\n",
    "        print(f'{i:7d}/{max_step:7d}: {loss.item():.4f}')\n",
    "    lossi.append(loss.log10().item())"
   ]
  },
  {
   "cell_type": "code",
   "execution_count": 69,
   "id": "470b0859-a5c9-4d1e-a625-a0392001afcc",
   "metadata": {},
   "outputs": [
    {
     "data": {
      "text/plain": [
       "<matplotlib.image.AxesImage at 0x7f831332b490>"
      ]
     },
     "execution_count": 69,
     "metadata": {},
     "output_type": "execute_result"
    },
    {
     "data": {
      "image/png": "[encoded data removed]",
      "text/plain": [
       "<Figure size 2000x1000 with 1 Axes>"
      ]
     },
     "metadata": {},
     "output_type": "display_data"
    }
   ],
   "source": [
    "# No dead neuron\n",
    "plt.figure(figsize=(20,10))\n",
    "plt.imshow(h.abs()>0.99, cmap='gray', interpolation='nearest')"
   ]
  },
  {
   "cell_type": "code",
   "execution_count": 71,
   "id": "023c1962-235a-407e-a096-15009ab9b4ca",
   "metadata": {},
   "outputs": [
    {
     "name": "stdout",
     "output_type": "stream",
     "text": [
      "train 2.0347900390625\n",
      "val 2.1198220252990723\n"
     ]
    }
   ],
   "source": [
    "split_loss('train')\n",
    "split_loss('val')"
   ]
  },
  {
   "cell_type": "markdown",
   "id": "6a099450-e181-4666-92ba-51fdf83070d0",
   "metadata": {},
   "source": [
    "## Problem in preserve the variance in distribution of input  after layer"
   ]
  },
  {
   "cell_type": "markdown",
   "id": "4e6b7c7b-73cb-4464-a0ec-9a3f365896eb",
   "metadata": {},
   "source": [
    "W/o kaming init --> the std change"
   ]
  },
  {
   "cell_type": "code",
   "execution_count": 11,
   "id": "e921ff7a-1961-45bf-bdc7-b7b9123bd83f",
   "metadata": {},
   "outputs": [
    {
     "name": "stdout",
     "output_type": "stream",
     "text": [
      "tensor(-0.0022) tensor(1.0017)\n",
      "tensor(-0.0061) tensor(3.1409)\n"
     ]
    },
    {
     "data": {
      "text/plain": [
       "(array([1.50665507e-05, 2.25998260e-05, 3.76663767e-05, 4.51996520e-05,\n",
       "        1.58198782e-04, 2.48598086e-04, 2.56131361e-04, 4.82129622e-04,\n",
       "        9.64259243e-04, 1.41625576e-03, 2.62157982e-03, 3.70637147e-03,\n",
       "        5.69515616e-03, 8.67079991e-03, 1.32886977e-02, 1.93529843e-02,\n",
       "        2.84531810e-02, 3.89470335e-02, 5.27253941e-02, 6.90952014e-02,\n",
       "        8.57889395e-02, 1.04328330e-01, 1.20758404e-01, 1.31741919e-01,\n",
       "        1.37052878e-01, 1.31493321e-01, 1.20351607e-01, 1.05081658e-01,\n",
       "        8.59170052e-02, 6.70687503e-02, 5.14824037e-02, 3.76362436e-02,\n",
       "        2.67205276e-02, 1.90139870e-02, 1.26785024e-02, 8.39960200e-03,\n",
       "        5.47669117e-03, 3.42010700e-03, 2.60651327e-03, 1.28819008e-03,\n",
       "        8.36193563e-04, 4.06796868e-04, 3.69130492e-04, 2.56131361e-04,\n",
       "        1.20532405e-04, 6.02662027e-05, 3.76663767e-05, 3.76663767e-05,\n",
       "        7.53327534e-06, 1.50665507e-05]),\n",
       " array([-16.24065208, -15.57693016, -14.91320824, -14.24948631,\n",
       "        -13.58576439, -12.92204247, -12.25832054, -11.59459862,\n",
       "        -10.93087669, -10.26715477,  -9.60343285,  -8.93971092,\n",
       "         -8.275989  ,  -7.61226707,  -6.94854515,  -6.28482323,\n",
       "         -5.6211013 ,  -4.95737938,  -4.29365746,  -3.62993553,\n",
       "         -2.96621361,  -2.30249168,  -1.63876976,  -0.97504784,\n",
       "         -0.31132591,   0.35239601,   1.01611794,   1.67983986,\n",
       "          2.34356178,   3.00728371,   3.67100563,   4.33472755,\n",
       "          4.99844948,   5.6621714 ,   6.32589333,   6.98961525,\n",
       "          7.65333717,   8.3170591 ,   8.98078102,   9.64450294,\n",
       "         10.30822487,  10.97194679,  11.63566872,  12.29939064,\n",
       "         12.96311256,  13.62683449,  14.29055641,  14.95427834,\n",
       "         15.61800026,  16.28172218,  16.94544411]),\n",
       " <BarContainer object of 50 artists>)"
      ]
     },
     "execution_count": 11,
     "metadata": {},
     "output_type": "execute_result"
    },
    {
     "data": {
      "image/png": "[encoded data removed]",
      "text/plain": [
       "<Figure size 2000x500 with 2 Axes>"
      ]
     },
     "metadata": {},
     "output_type": "display_data"
    }
   ],
   "source": [
    "x = torch.randn(1000,10)\n",
    "w = torch.randn(10,200) # Fan in  - Kaiming\n",
    "y = x@w\n",
    "print(x.mean(), x.std())\n",
    "print(y.mean(), y.std())\n",
    "plt.figure(figsize=(20,5))\n",
    "plt.subplot(121)\n",
    "plt.hist(x.view(-1).tolist(), 50, density=True)\n",
    "plt.subplot(122)\n",
    "plt.hist(y.view(-1).tolist(), 50, density=True)"
   ]
  },
  {
   "cell_type": "markdown",
   "id": "0e115943-3305-4dd4-8ff2-e436bbfe5c14",
   "metadata": {},
   "source": [
    "With kaming init --> the std remain unchanged"
   ]
  },
  {
   "cell_type": "code",
   "execution_count": 12,
   "id": "1aacd288-2820-4c88-a1b9-de601ddc7b3e",
   "metadata": {},
   "outputs": [
    {
     "name": "stdout",
     "output_type": "stream",
     "text": [
      "tensor(0.0067) tensor(0.9952)\n",
      "tensor(0.0012) tensor(0.9979)\n"
     ]
    },
    {
     "data": {
      "text/plain": [
       "(array([4.12290356e-05, 0.00000000e+00, 4.12290356e-05, 6.18435533e-05,\n",
       "        4.12290356e-05, 1.44301624e-04, 3.09217767e-04, 4.74133909e-04,\n",
       "        5.97821016e-04, 1.23687107e-03, 2.02022274e-03, 3.87552934e-03,\n",
       "        6.34927148e-03, 1.09256944e-02, 1.83056918e-02, 2.90458556e-02,\n",
       "        4.54550117e-02, 6.97389137e-02, 1.02124321e-01, 1.49352181e-01,\n",
       "        2.08433389e-01, 2.78089845e-01, 3.39294348e-01, 3.93860977e-01,\n",
       "        4.30678505e-01, 4.28555210e-01, 3.87284946e-01, 3.31831893e-01,\n",
       "        2.65782978e-01, 1.96229595e-01, 1.45971400e-01, 1.00990523e-01,\n",
       "        6.46058987e-02, 4.16619404e-02, 2.64484263e-02, 1.71925078e-02,\n",
       "        1.01835718e-02, 6.45234407e-03, 3.64876965e-03, 2.26759696e-03,\n",
       "        1.52547432e-03, 8.24580711e-04, 4.12290356e-04, 2.06145178e-04,\n",
       "        2.06145178e-04, 4.12290356e-05, 4.12290356e-05, 0.00000000e+00,\n",
       "        2.06145178e-05, 2.06145178e-05]),\n",
       " array([-6.04694271, -5.8043952 , -5.56184769, -5.31930017, -5.07675266,\n",
       "        -4.83420515, -4.59165764, -4.34911013, -4.10656261, -3.8640151 ,\n",
       "        -3.62146759, -3.37892008, -3.13637257, -2.89382505, -2.65127754,\n",
       "        -2.40873003, -2.16618252, -1.92363501, -1.68108749, -1.43853998,\n",
       "        -1.19599247, -0.95344496, -0.71089745, -0.46834993, -0.22580242,\n",
       "         0.01674509,  0.2592926 ,  0.50184011,  0.74438763,  0.98693514,\n",
       "         1.22948265,  1.47203016,  1.71457767,  1.95712519,  2.1996727 ,\n",
       "         2.44222021,  2.68476772,  2.92731524,  3.16986275,  3.41241026,\n",
       "         3.65495777,  3.89750528,  4.1400528 ,  4.38260031,  4.62514782,\n",
       "         4.86769533,  5.11024284,  5.35279036,  5.59533787,  5.83788538,\n",
       "         6.08043289]),\n",
       " <BarContainer object of 50 artists>)"
      ]
     },
     "execution_count": 12,
     "metadata": {},
     "output_type": "execute_result"
    },
    {
     "data": {
      "image/png": "[encoded data removed]",
      "text/plain": [
       "<Figure size 2000x500 with 2 Axes>"
      ]
     },
     "metadata": {},
     "output_type": "display_data"
    }
   ],
   "source": [
    "x = torch.randn(1000,10)\n",
    "w = torch.randn(10,200)/10**0.5 # Fan in  - Kaiming\n",
    "y = x@w\n",
    "print(x.mean(), x.std())\n",
    "print(y.mean(), y.std())\n",
    "plt.figure(figsize=(20,5))\n",
    "plt.subplot(121)\n",
    "plt.hist(x.view(-1).tolist(), 50, density=True)\n",
    "plt.subplot(122)\n",
    "plt.hist(y.view(-1).tolist(), 50, density=True)"
   ]
  },
  {
   "cell_type": "code",
   "execution_count": 74,
   "id": "4eea1f6f-6134-4f52-a0d6-7595afeab1ab",
   "metadata": {},
   "outputs": [],
   "source": [
    "n_embd = 10\n",
    "n_hidden = 200\n",
    "\n",
    "g = torch.Generator().manual_seed(2147483647)\n",
    "C = torch.randn((vocab_size,n_embd), generator=g) # make a look up table for character embedding\n",
    "# make first layer\n",
    "W1 = torch.randn((n_embd*block_size,n_hidden), generator=g)*(5/3)/((n_embd*block_size)**0.5) # Kaiming initialization for tanh acitvation\n",
    "b1 = torch.randn(n_hidden, generator=g)*0.01 # to make sure output is close to zero\n",
    "# Make second layer\n",
    "W2 = torch.randn((n_hidden,vocab_size), generator=g) * 0.01 # to make output is close to zero\n",
    "b2 = torch.randn(vocab_size, generator=g)*0 # set bias to 0 -> output dont have offset\n",
    "parameters = [C,W1,b1,W2,b2]\n",
    "\n",
    "sum(p.nelement() for p in parameters)\n",
    "\n",
    "for p in parameters:\n",
    "    p.requires_grad = True"
   ]
  },
  {
   "cell_type": "code",
   "execution_count": 75,
   "id": "effc08a2-130b-47a5-a1be-73bac6f8178e",
   "metadata": {},
   "outputs": [
    {
     "name": "stdout",
     "output_type": "stream",
     "text": [
      "      0/ 200000: 3.3269\n",
      "  10000/ 200000: 2.0883\n",
      "  20000/ 200000: 1.6095\n",
      "  30000/ 200000: 2.1317\n",
      "  40000/ 200000: 1.8603\n",
      "  50000/ 200000: 1.9653\n",
      "  60000/ 200000: 2.4645\n",
      "  70000/ 200000: 2.2375\n",
      "  80000/ 200000: 1.8574\n",
      "  90000/ 200000: 2.2136\n",
      " 100000/ 200000: 2.1873\n",
      " 110000/ 200000: 1.8964\n",
      " 120000/ 200000: 1.9193\n",
      " 130000/ 200000: 1.8756\n",
      " 140000/ 200000: 2.0431\n",
      " 150000/ 200000: 2.1658\n",
      " 160000/ 200000: 2.0476\n",
      " 170000/ 200000: 1.8547\n",
      " 180000/ 200000: 1.7134\n",
      " 190000/ 200000: 2.2329\n"
     ]
    }
   ],
   "source": [
    "max_step = 200000\n",
    "batch_size = 32\n",
    "lossi = []\n",
    "\n",
    "for i in range(max_step):\n",
    "\n",
    "    # minibatch construct\n",
    "    ix = torch.randint(0, Xtr.shape[0], (batch_size,))\n",
    "    \n",
    "    # foward pass\n",
    "    emb = C[Xtr[ix]]\n",
    "    hpreact = emb.view(emb.shape[0],-1) @ W1 + b1\n",
    "    h = torch.tanh(hpreact) \n",
    "    logits = h @ W2 + b2\n",
    "    loss = F.cross_entropy(logits, Ytr[ix])  \n",
    "    \n",
    "    # backward pass\n",
    "    for p in parameters:\n",
    "        p.grad = None\n",
    "    loss.backward()\n",
    "    \n",
    "    # update\n",
    "    lr = 0.1 if i<100000 else 0.01\n",
    "    for p in parameters:\n",
    "        p.data += -lr*p.grad\n",
    "\n",
    "    # track stats\n",
    "    if i%10000==0: # print every once in a while\n",
    "        print(f'{i:7d}/{max_step:7d}: {loss.item():.4f}')\n",
    "    lossi.append(loss.log10().item())"
   ]
  },
  {
   "cell_type": "code",
   "execution_count": 76,
   "id": "3f0b940d-26e8-43b6-8b79-ed6a7cf140a7",
   "metadata": {},
   "outputs": [
    {
     "name": "stdout",
     "output_type": "stream",
     "text": [
      "train 2.0369873046875\n",
      "val 2.119870185852051\n"
     ]
    }
   ],
   "source": [
    "split_loss('train')\n",
    "split_loss('val')"
   ]
  },
  {
   "cell_type": "markdown",
   "id": "82c73a6c-571e-4f39-b722-4b3ca93aa259",
   "metadata": {},
   "source": [
    "## Batch Normalization"
   ]
  },
  {
   "cell_type": "code",
   "execution_count": 35,
   "id": "cdbaf578-8f21-4be9-b620-3c12dce6e060",
   "metadata": {},
   "outputs": [],
   "source": [
    "n_embd = 10\n",
    "n_hidden = 200\n",
    "\n",
    "g = torch.Generator().manual_seed(2147483647)\n",
    "C = torch.randn((vocab_size,n_embd), generator=g) # make a look up table for character embedding\n",
    "# make first layer\n",
    "W1 = torch.randn((n_embd*block_size,n_hidden), generator=g)*(5/3)/((n_embd*block_size)**0.5) # Kaiming initialization for tanh acitvation\n",
    "# b1 = torch.randn(n_hidden, generator=g)*0.01 # to make sure output is close to zero --> become useless due to the BN, BN substract by mean\n",
    "# Make second layer\n",
    "W2 = torch.randn((n_hidden,vocab_size), generator=g) * 0.01 # to make output is close to zero\n",
    "b2 = torch.randn(vocab_size, generator=g)*0 # set bias to 0 -> output dont have offset\n",
    "\n",
    "# BatchNorm parameters\n",
    "bngain = torch.ones((1,n_hidden))\n",
    "bnbias = torch.zeros((1, n_hidden))\n",
    "bnmean_running = torch.zeros((1, n_hidden))\n",
    "bnstd_running = torch.ones((1,n_hidden))\n",
    "\n",
    "parameters = [C,W1,W2,b2,bngain,bnbias]\n",
    "\n",
    "sum(p.nelement() for p in parameters)\n",
    "\n",
    "for p in parameters:\n",
    "    p.requires_grad = True"
   ]
  },
  {
   "cell_type": "code",
   "execution_count": 37,
   "id": "4f83a741-da29-4cf1-8883-7c4c088066a5",
   "metadata": {},
   "outputs": [
    {
     "name": "stdout",
     "output_type": "stream",
     "text": [
      "      0/ 200000: 2.4845\n",
      "  10000/ 200000: 2.2048\n",
      "  20000/ 200000: 2.1284\n",
      "  30000/ 200000: 1.9298\n",
      "  40000/ 200000: 2.5958\n",
      "  50000/ 200000: 1.9078\n",
      "  60000/ 200000: 2.1874\n",
      "  70000/ 200000: 1.8756\n",
      "  80000/ 200000: 1.8330\n",
      "  90000/ 200000: 2.2192\n",
      " 100000/ 200000: 2.1088\n",
      " 110000/ 200000: 2.0184\n",
      " 120000/ 200000: 2.2892\n",
      " 130000/ 200000: 2.1951\n",
      " 140000/ 200000: 2.1170\n",
      " 150000/ 200000: 1.9983\n",
      " 160000/ 200000: 2.0732\n",
      " 170000/ 200000: 1.8097\n",
      " 180000/ 200000: 1.7261\n",
      " 190000/ 200000: 2.3677\n"
     ]
    }
   ],
   "source": [
    "max_step = 200000\n",
    "batch_size = 32\n",
    "lossi = []\n",
    "\n",
    "for i in range(max_step):\n",
    "\n",
    "    # minibatch construct\n",
    "    ix = torch.randint(0, Xtr.shape[0], (batch_size,))\n",
    "    \n",
    "    # foward pass\n",
    "    emb = C[Xtr[ix]]\n",
    "    # Linear Layer\n",
    "    hpreact = emb.view(emb.shape[0],-1) @ W1  # + b1\n",
    "    # BatchNorm Layer\n",
    "    # ----------------------------------------------\n",
    "    bnmeani = hpreact.mean(0, keepdim=True)\n",
    "    bnstdi = hpreact.std(0, keepdim=True)\n",
    "    hpreact = (hpreact - hpreact.mean(0, keepdim=True))/hpreact.std(0, keepdim=True)*bngain + bnbias\n",
    "    with torch.no_grad():\n",
    "        bnmean_running = 0.999*bnmean_running + 0.001*bnmeani\n",
    "        bnstd_running = 0.999*bnstd_running + 0.001*bnstdi\n",
    "    # -------------------------------------------\n",
    "    # Non-linearity\n",
    "    h = torch.tanh(hpreact) \n",
    "    logits = h @ W2 + b2\n",
    "    loss = F.cross_entropy(logits, Ytr[ix])  \n",
    "    \n",
    "    # backward pass\n",
    "    for p in parameters:\n",
    "        p.grad = None\n",
    "    loss.backward()\n",
    "    \n",
    "    # update\n",
    "    lr = 0.1 if i<100000 else 0.01\n",
    "    for p in parameters:\n",
    "        p.data += -lr*p.grad\n",
    "\n",
    "    # track stats\n",
    "    if i%10000==0: # print every once in a while\n",
    "        print(f'{i:7d}/{max_step:7d}: {loss.item():.4f}')\n",
    "    lossi.append(loss.log10().item())"
   ]
  },
  {
   "cell_type": "code",
   "execution_count": 38,
   "id": "c4fb866b-d36c-417b-9b65-6e92e9725905",
   "metadata": {},
   "outputs": [
    {
     "data": {
      "text/plain": [
       "[<matplotlib.lines.Line2D at 0x7f50d3956170>]"
      ]
     },
     "execution_count": 38,
     "metadata": {},
     "output_type": "execute_result"
    },
    {
     "data": {
      "image/png": "[encoded data removed]",
      "text/plain": [
       "<Figure size 640x480 with 1 Axes>"
      ]
     },
     "metadata": {},
     "output_type": "display_data"
    }
   ],
   "source": [
    "plt.plot(lossi)"
   ]
  },
  {
   "cell_type": "markdown",
   "id": "02a93170-3068-4614-8773-e04945a7b63c",
   "metadata": {},
   "source": [
    "There are 2 ways to determine the batch norm:\n",
    "1. At the second stage after training, calculate the batch mean/std over entire set\n",
    "2. Update during training session, by using exponentialy weight average\\\n",
    "The meaning of using momentum is how much of the current value are being used to estimate the target value\\\n",
    "Or, the meaning of using momentum of 0.001 is similar to average over 1/0.001=1000 previous values\\\n",
    "Therefore, for large batchsize, the estimated values are not too much different from each other -> high momentum is acceptable\\\n",
    "However, for small batchsize, the estimated values change a lot accross step -> high momentum is risk"
   ]
  },
  {
   "cell_type": "code",
   "execution_count": 39,
   "id": "c57b3933-68aa-49e3-8933-83a3d7a19518",
   "metadata": {},
   "outputs": [],
   "source": [
    "# calibrate the batch norm at the end of training\n",
    "\n",
    "with torch.no_grad():\n",
    "    emb = C[Xtr]\n",
    "    embcat = emb.view(emb.shape[0], -1)\n",
    "    hpreact = embcat@W1 + b1\n",
    "    # measure the mean/std over the entire training set\n",
    "    bnmean = hpreact.mean(0, keepdim=True)\n",
    "    bnstd = hpreact.std(0, keepdim=True)"
   ]
  },
  {
   "cell_type": "code",
   "execution_count": 40,
   "id": "5e433837-8c0d-4ea9-831a-21c17699f139",
   "metadata": {},
   "outputs": [
    {
     "name": "stdout",
     "output_type": "stream",
     "text": [
      "tensor([-2.4375,  0.2355, -1.7506,  1.0336,  0.8453,  1.4140,  1.8064, -1.0905,\n",
      "         0.8293,  2.0856])\n",
      "tensor([-2.4544,  0.2186, -1.7561,  1.0296,  0.8441,  1.4252,  1.8136, -1.0987,\n",
      "         0.8288,  2.0896])\n",
      "tensor([2.4232, 2.0562, 2.0696, 2.1464, 2.3560, 2.3778, 2.2936, 2.6854, 2.6201,\n",
      "        2.3661])\n",
      "tensor([2.4556, 2.0863, 2.0930, 2.1805, 2.3946, 2.3948, 2.3100, 2.7002, 2.6526,\n",
      "        2.3969])\n"
     ]
    }
   ],
   "source": [
    "print(bnmean_running[0,:10])\n",
    "print(bnmean[0,:10])\n",
    "print(bnstd_running[0,:10])\n",
    "print(bnstd[0,:10])"
   ]
  },
  {
   "cell_type": "code",
   "execution_count": 41,
   "id": "991ce03b-c0dc-48a6-b68b-defb4e5fc24f",
   "metadata": {},
   "outputs": [
    {
     "name": "stdout",
     "output_type": "stream",
     "text": [
      "val 2.10714054107666\n",
      "test 2.101778507232666\n"
     ]
    }
   ],
   "source": [
    "@torch.no_grad() # this decorator disables gradient tracking\n",
    "def split_loss(split):\n",
    "    x, y = {\n",
    "        'train': (Xtr, Ytr),\n",
    "        'val': (Xdev, Ydev),\n",
    "        'test': (Xte, Yte),\n",
    "    }[split]\n",
    "    emb = C[x]\n",
    "    hpreact = emb.view(emb.shape[0],-1) @ W1 #+ b1\n",
    "    hpreact = (hpreact - bnmean_running)/bnstd_running*bngain + bnbias\n",
    "    h = torch.tanh(hpreact) \n",
    "    logits = h @ W2 + b2\n",
    "    loss = F.cross_entropy(logits, y)  \n",
    "    print(split, loss.item())\n",
    "\n",
    "split_loss('val')\n",
    "split_loss('test')"
   ]
  },
  {
   "cell_type": "markdown",
   "id": "268ffdb0-a9b5-4f82-9b5a-75ee42c72cac",
   "metadata": {},
   "source": [
    "BN help to train model more stable and faster because it help to control the distribution shift between layer\\\n",
    "BN can also be considered as regularizer because it padding some noise to the sample due to the mean and std\\\n",
    "This effect have a effect as adding noise to layers\\\n",
    "However, BN is not preferable because it couple sample in batch during forward pass, which may cause bug"
   ]
  },
  {
   "cell_type": "code",
   "execution_count": null,
   "id": "61f99e16-ffaf-4b49-a596-fa854949db91",
   "metadata": {},
   "outputs": [],
   "source": []
  }
 ],
 "metadata": {
  "kernelspec": {
   "display_name": "Python 3 (ipykernel)",
   "language": "python",
   "name": "python3"
  },
  "language_info": {
   "codemirror_mode": {
    "name": "ipython",
    "version": 3
   },
   "file_extension": ".py",
   "mimetype": "text/x-python",
   "name": "python",
   "nbconvert_exporter": "python",
   "pygments_lexer": "ipython3",
   "version": "3.10.6"
  }
 },
 "nbformat": 4,
 "nbformat_minor": 5
}
